{
 "cells": [
  {
   "cell_type": "code",
   "execution_count": 49,
   "metadata": {},
   "outputs": [
    {
     "name": "stdout",
     "output_type": "stream",
     "text": [
      "Enter the string :u\n",
      "True\n"
     ]
    }
   ],
   "source": [
    "# Question 2.2\n",
    "A= ['a','e','i','o','u']\n",
    "lst = [x.upper() for x in A] \n",
    "\n",
    "ip= input(\"Enter the string :\").upper()\n",
    "if (ip not in lst):\n",
    "    print(False)\n",
    "else:\n",
    "    print(True)"
   ]
  },
  {
   "cell_type": "code",
   "execution_count": 50,
   "metadata": {},
   "outputs": [
    {
     "name": "stdout",
     "output_type": "stream",
     "text": [
      "2\n",
      "3\n",
      "4\n"
     ]
    }
   ],
   "source": [
    "# Question 2.1\n",
    "list1 = ['ab','cde','erty']\n",
    "for x in list1:\n",
    "    print(len(x))"
   ]
  },
  {
   "cell_type": "code",
   "execution_count": 72,
   "metadata": {},
   "outputs": [
    {
     "name": "stdout",
     "output_type": "stream",
     "text": [
      "petchimuthu\n",
      "sudhan\n",
      "muthu\n",
      "sivam\n"
     ]
    }
   ],
   "source": [
    "# Question 1.2\n",
    "def my_function(food,i):\n",
    "  for x in food:\n",
    "    if len(x)>i:\n",
    "        print(x)\n",
    "    \n",
    "Name = [\"petchimuthu\", \"sudhan\", \"muthu\",\"sivam\",\"Hi\",\"s\"]\n",
    "\n",
    "my_function(Name,4)"
   ]
  },
  {
   "cell_type": "code",
   "execution_count": 71,
   "metadata": {},
   "outputs": [
    {
     "name": "stdout",
     "output_type": "stream",
     "text": [
      "13.856406460551018\n"
     ]
    }
   ],
   "source": [
    "# Question 1.1\n",
    "class Triangle():\n",
    "    def __init__(self,a,b,c):\n",
    "        self.a = a\n",
    "        self.b=  b\n",
    "        self.c = c\n",
    "    \n",
    "class Calculation(Triangle):\n",
    "    def __init__(self,a,b,c,side):\n",
    "        self.side = side\n",
    "        Triangle.__init__(self,a,b,c)\n",
    "        \n",
    "x=Triangle(10,2,8)\n",
    "y= Calculation(10,2,8,4)\n",
    "\n",
    "#C= (s*(s-a)*(s-b)*(s-c)) ** 0.5\n",
    "\n",
    "C= (y.side * (y.side-y.a)*(y.side-y.b)*(y.side-y.c))**0.5\n",
    "print(C)\n"
   ]
  },
  {
   "cell_type": "code",
   "execution_count": null,
   "metadata": {},
   "outputs": [],
   "source": []
  }
 ],
 "metadata": {
  "kernelspec": {
   "display_name": "Python 3",
   "language": "python",
   "name": "python3"
  },
  "language_info": {
   "codemirror_mode": {
    "name": "ipython",
    "version": 3
   },
   "file_extension": ".py",
   "mimetype": "text/x-python",
   "name": "python",
   "nbconvert_exporter": "python",
   "pygments_lexer": "ipython3",
   "version": "3.8.3"
  }
 },
 "nbformat": 4,
 "nbformat_minor": 4
}
