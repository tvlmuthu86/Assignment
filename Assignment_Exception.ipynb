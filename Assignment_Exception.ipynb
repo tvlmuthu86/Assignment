{
 "cells": [
  {
   "cell_type": "code",
   "execution_count": 12,
   "metadata": {},
   "outputs": [
    {
     "name": "stdout",
     "output_type": "stream",
     "text": [
      "You are dividing by zero\n"
     ]
    }
   ],
   "source": [
    "def divide(x, y): \n",
    "    try: \n",
    "        result = x // y \n",
    "        print(result) \n",
    "    except ZeroDivisionError: \n",
    "        print(\"You are dividing by zero\") \n",
    "        \n",
    "divide(2,0)"
   ]
  },
  {
   "cell_type": "code",
   "execution_count": 24,
   "metadata": {},
   "outputs": [
    {
     "name": "stdout",
     "output_type": "stream",
     "text": [
      "[('Americans ', 'play', 'Baseball'), ('Americans ', 'play', 'Cricket'), ('Americans ', 'watch', 'Baseball'), ('Americans ', 'watch', 'Cricket'), ('Indians', 'play', 'Baseball'), ('Indians', 'play', 'Cricket'), ('Indians', 'watch', 'Baseball'), ('Indians', 'watch', 'Cricket')]\n"
     ]
    }
   ],
   "source": [
    "subjects=[\"Americans \",\"Indians\"]\n",
    "verbs=[\"play\",\"watch\"]\n",
    "objects=[\"Baseball\",\"Cricket\"]\n",
    "\n",
    "vall = [(x,y,z) for x in subjects for y in verbs for z in objects]\n",
    "print(vall)\n"
   ]
  },
  {
   "cell_type": "code",
   "execution_count": null,
   "metadata": {},
   "outputs": [],
   "source": []
  },
  {
   "cell_type": "code",
   "execution_count": null,
   "metadata": {},
   "outputs": [],
   "source": []
  }
 ],
 "metadata": {
  "kernelspec": {
   "display_name": "Python 3",
   "language": "python",
   "name": "python3"
  },
  "language_info": {
   "codemirror_mode": {
    "name": "ipython",
    "version": 3
   },
   "file_extension": ".py",
   "mimetype": "text/x-python",
   "name": "python",
   "nbconvert_exporter": "python",
   "pygments_lexer": "ipython3",
   "version": "3.8.3"
  }
 },
 "nbformat": 4,
 "nbformat_minor": 4
}
